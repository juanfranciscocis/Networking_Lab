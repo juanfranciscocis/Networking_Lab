{
 "cells": [
  {
   "cell_type": "markdown",
   "id": "793f3ddc",
   "metadata": {},
   "source": [
    "# Comunicación Serial"
   ]
  },
  {
   "cell_type": "markdown",
   "id": "18c148bd",
   "metadata": {},
   "source": [
    "## Parallel vs Serial"
   ]
  },
  {
   "cell_type": "markdown",
   "source": [
    "## Simulación de Protocolo"
   ],
   "metadata": {
    "collapsed": false
   },
   "id": "c7024012"
  },
  {
   "cell_type": "code",
   "execution_count": 1,
   "id": "43a889ae",
   "metadata": {
    "ExecuteTime": {
     "end_time": "2023-08-29T18:54:26.425825Z",
     "start_time": "2023-08-29T18:54:26.410102Z"
    }
   },
   "outputs": [
    {
     "name": "stdout",
     "output_type": "stream",
     "text": [
      "Encoded frame: 01011101011\n",
      "Decoded message: 10111010\n"
     ]
    }
   ],
   "source": [
    "def encode_rs232(message, data_bits, stop_bits, parity):\n",
    "    # Calculate the required parity bit\n",
    "    if parity == 'even':\n",
    "        parity_bit = sum(int(bit) for bit in message) % 2\n",
    "    elif parity == 'odd':\n",
    "        parity_bit = 1 - (sum(int(bit) for bit in message) % 2)\n",
    "    else:\n",
    "        parity_bit = ''\n",
    "    \n",
    "    # Construir frame\n",
    "    frame = '0' + message + str(parity_bit)\n",
    "    frame += '1' * stop_bits\n",
    "    \n",
    "    return frame\n",
    "\n",
    "def decode_rs232(frame, data_bits, stop_bits, parity):\n",
    "    # Limpiar frame\n",
    "    frame = frame[1:-stop_bits]\n",
    "    \n",
    "    if parity == 'none':\n",
    "        return frame\n",
    "    \n",
    "    # Validate parity bit\n",
    "    received_parity = int(frame[-1])\n",
    "    calculated_parity = sum(int(bit) for bit in frame[:-1]) % 2\n",
    "    \n",
    "    if parity == 'even':\n",
    "        if received_parity != calculated_parity:\n",
    "            return None  # Error\n",
    "    elif parity == 'odd':\n",
    "        if received_parity != 1 - calculated_parity:\n",
    "            return None  # Error\n",
    "    \n",
    "    return frame[:-1]\n",
    "\n",
    "# Example usage\n",
    "message = \"10111010\"  # Binary message\n",
    "data_bits = 8\n",
    "stop_bits = 1\n",
    "parity = 'even'\n",
    "\n",
    "encoded_frame = encode_rs232(message, data_bits, stop_bits, parity)\n",
    "print(\"Encoded frame:\", encoded_frame)\n",
    "\n",
    "decoded_message = decode_rs232(encoded_frame, data_bits, stop_bits, parity)\n",
    "if decoded_message is None:\n",
    "    print(\"Decoding error: Parity mismatch\")\n",
    "else:\n",
    "    print(\"Decoded message:\", decoded_message)\n",
    "    \n",
    "    \n",
    "    \n",
    "    \n",
    "    "
   ]
  },
  {
   "cell_type": "code",
   "execution_count": 2,
   "id": "0a2e29e4",
   "metadata": {
    "ExecuteTime": {
     "end_time": "2023-08-29T18:54:26.451078Z",
     "start_time": "2023-08-29T18:54:26.418117Z"
    }
   },
   "outputs": [
    {
     "name": "stdout",
     "output_type": "stream",
     "text": [
      "01001000 01101111 01101100 01100001\n"
     ]
    }
   ],
   "source": [
    "def string_to_binary(input_string):\n",
    "    binary_result = \"\"\n",
    "    for char in input_string:\n",
    "        binary_result += format(ord(char), '08b') + \" \"  # '08b' es el formato de binario 8bits\n",
    "    return binary_result.strip()  # Eliminar el espacio al final\n",
    "\n",
    "# Ejemplo\n",
    "input_string = \"Hola\"\n",
    "binary_representation = string_to_binary(input_string)\n",
    "print(binary_representation)"
   ]
  },
  {
   "cell_type": "code",
   "execution_count": 3,
   "id": "0c64e242",
   "metadata": {
    "ExecuteTime": {
     "end_time": "2023-08-29T18:54:26.451821Z",
     "start_time": "2023-08-29T18:54:26.423127Z"
    }
   },
   "outputs": [
    {
     "name": "stdout",
     "output_type": "stream",
     "text": [
      "Hola\n"
     ]
    }
   ],
   "source": [
    "def binary_to_string(binary_input):\n",
    "    binary_list = binary_input.split()  # Separar en cadenas de 8 bits\n",
    "    text_result = \"\"\n",
    "    \n",
    "    for binary_value in binary_list:\n",
    "        decimal_value = int(binary_value, 2)  # Convertir binario a decimal\n",
    "        text_result += chr(decimal_value)\n",
    "    \n",
    "    return text_result\n",
    "\n",
    "# Example usage\n",
    "binary_input = binary_representation\n",
    "decoded_text = binary_to_string(binary_input)\n",
    "print(decoded_text)"
   ]
  },
  {
   "cell_type": "code",
   "execution_count": 56,
   "id": "4db1faa1",
   "metadata": {
    "ExecuteTime": {
     "end_time": "2023-08-29T19:12:35.406151Z",
     "start_time": "2023-08-29T19:12:30.256446Z"
    }
   },
   "outputs": [
    {
     "data": {
      "text/plain": "'0010010101100111010111001100001110011011101100010000011001000110110011100100100110000111001101110110011000110100110100101001110011110011000110100110111101'"
     },
     "execution_count": 56,
     "metadata": {},
     "output_type": "execute_result"
    }
   ],
   "source": [
    "userInput = input(\"Ingrese el mensaje a enviar: \")\n",
    "def send(userInput):\n",
    "    userInput = string_to_binary(userInput)\n",
    "    listMessage = userInput.split()\n",
    "    encondedWords = []\n",
    "    for word in listMessage:\n",
    "        encondedWords.append(encode_rs232(word, 8, 1, 'even'))\n",
    "    encodedMessage = \"\"\n",
    "    for word in encondedWords:\n",
    "        encodedMessage += word\n",
    "    return encodedMessage\n",
    "send(userInput)\n"
   ]
  },
  {
   "cell_type": "code",
   "execution_count": 59,
   "outputs": [
    {
     "data": {
      "text/plain": "'Juan Francisco'"
     },
     "execution_count": 59,
     "metadata": {},
     "output_type": "execute_result"
    }
   ],
   "source": [
    "def receive():\n",
    "    encodedMessage = send(userInput)\n",
    "    #split the string in 10 bits\n",
    "    def splitString(string, n):\n",
    "        return [string[i:i+n] for i in range(0, len(string), n)]\n",
    "    splitedMessage = splitString(encodedMessage, 11)\n",
    "    words = []\n",
    "    for bit in splitedMessage:\n",
    "        words.append(decode_rs232(bit, 8, 1, 'even'))\n",
    "    unitedWords = \"\"\n",
    "    for word in words:\n",
    "        binary_to_string(word)\n",
    "        unitedWords += binary_to_string(word)\n",
    "    return unitedWords\n",
    "receive()"
   ],
   "metadata": {
    "collapsed": false,
    "ExecuteTime": {
     "end_time": "2023-08-29T19:13:57.284287Z",
     "start_time": "2023-08-29T19:13:57.276785Z"
    }
   },
   "id": "7a99ef307248f2f6"
  },
  {
   "cell_type": "code",
   "execution_count": null,
   "outputs": [],
   "source": [],
   "metadata": {
    "collapsed": false
   },
   "id": "ed0a12f8037209ed"
  }
 ],
 "metadata": {
  "kernelspec": {
   "display_name": "Python 3 (ipykernel)",
   "language": "python",
   "name": "python3"
  },
  "language_info": {
   "codemirror_mode": {
    "name": "ipython",
    "version": 3
   },
   "file_extension": ".py",
   "mimetype": "text/x-python",
   "name": "python",
   "nbconvert_exporter": "python",
   "pygments_lexer": "ipython3",
   "version": "3.9.16"
  }
 },
 "nbformat": 4,
 "nbformat_minor": 5
}
